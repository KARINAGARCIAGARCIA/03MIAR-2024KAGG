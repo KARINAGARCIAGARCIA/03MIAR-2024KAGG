{
 "cells": [
  {
   "cell_type": "code",
   "execution_count": null,
   "id": "1d34ae83",
   "metadata": {},
   "outputs": [],
   "source": [
    "\n",
    "from math import sqrt\n",
    "x = abs(-9) + 3\n",
    "y = sqrt(x)\n",
    "print('Raíz cuadrada de',x, '=', round(y, 3))"
   ]
  },
  {
   "cell_type": "markdown",
   "id": "4cb781a6",
   "metadata": {},
   "source": [
    "EJERCICIO DE PRUEBA"
   ]
  },
  {
   "cell_type": "code",
   "execution_count": 1,
   "id": "8545487b",
   "metadata": {},
   "outputs": [
    {
     "name": "stdout",
     "output_type": "stream",
     "text": [
      "El resultado de aproximar hacia arriba el número decimal es: 35\n"
     ]
    }
   ],
   "source": [
    "import math\n",
    "\n",
    "numero_decimal = 34.56\n",
    "numero_aproximado = math.ceil(numero_decimal)\n",
    "print(\"El resultado de aproximar hacia arriba el número decimal es:\", numero_aproximado)"
   ]
  },
  {
   "cell_type": "code",
   "execution_count": 2,
   "id": "b01cf418",
   "metadata": {},
   "outputs": [
    {
     "name": "stdout",
     "output_type": "stream",
     "text": [
      "El resultado de aproximar hacia arriba el número decimal es: 35\n"
     ]
    }
   ],
   "source": [
    "numero_decimal = 34.56\n",
    "numero_aproximado = round(numero_decimal)\n",
    "print(\"El resultado de aproximar hacia arriba el número decimal es:\", numero_aproximado)"
   ]
  },
  {
   "cell_type": "code",
   "execution_count": null,
   "id": "eee0eab0",
   "metadata": {},
   "outputs": [],
   "source": [
    "from random import randint\n",
    "n = randint(10, 100)/3.2567\n",
    "print(n, round(n,2))"
   ]
  },
  {
   "cell_type": "code",
   "execution_count": null,
   "id": "4b091c1e",
   "metadata": {},
   "outputs": [],
   "source": [
    "from random import randint\n",
    "x=randint(10,100)*2\n",
    "print(x, round(x,2))"
   ]
  },
  {
   "cell_type": "code",
   "execution_count": null,
   "id": "88db0174",
   "metadata": {},
   "outputs": [],
   "source": [
    "from random import randint\n",
    "x=randint(10,100)*2\n",
    "print(x, round(x,2))"
   ]
  },
  {
   "cell_type": "code",
   "execution_count": null,
   "id": "1e0ffa23",
   "metadata": {},
   "outputs": [],
   "source": [
    "from random import randint\n",
    "x=randint(10,100)*2\n",
    "print(x, round(x,2))"
   ]
  },
  {
   "cell_type": "code",
   "execution_count": null,
   "id": "8e6a05b3",
   "metadata": {},
   "outputs": [],
   "source": [
    "from random import randint\n",
    "x=randint(10,100)\n",
    "print(x, round(x,2))"
   ]
  },
  {
   "cell_type": "code",
   "execution_count": null,
   "id": "97d06d17",
   "metadata": {},
   "outputs": [],
   "source": [
    "from math import sqrt, log10\n",
    "x = sqrt(10)\n",
    "dB = 20*log10(x/2)"
   ]
  },
  {
   "cell_type": "code",
   "execution_count": 3,
   "id": "e7bf24c9",
   "metadata": {},
   "outputs": [
    {
     "name": "stdin",
     "output_type": "stream",
     "text": [
      "Mi nombre es karina\n"
     ]
    }
   ],
   "source": [
    "nombre=input('Mi nombre es')"
   ]
  },
  {
   "cell_type": "code",
   "execution_count": null,
   "id": "a4cf62e7",
   "metadata": {},
   "outputs": [],
   "source": [
    "nombre=input('Cómo te llamas')\n",
    "print(nombre)"
   ]
  },
  {
   "cell_type": "code",
   "execution_count": null,
   "id": "c5d7ce48",
   "metadata": {},
   "outputs": [],
   "source": [
    "Nombre=input(\"Cómo se llama:\")\n",
    "print(\"Mi nombre es\", Nombre)"
   ]
  },
  {
   "cell_type": "code",
   "execution_count": null,
   "id": "df558b37",
   "metadata": {},
   "outputs": [],
   "source": [
    "Nombre=input(\"Cómo se llama:\")\n",
    "print(\"Mi nombre es:\", Nombre)"
   ]
  },
  {
   "cell_type": "code",
   "execution_count": null,
   "id": "ae5036a3",
   "metadata": {},
   "outputs": [],
   "source": [
    "Nombre=input(\"Cómo se llama:\")\n",
    "print(Nombre)"
   ]
  },
  {
   "cell_type": "code",
   "execution_count": null,
   "id": "ec6be902",
   "metadata": {},
   "outputs": [],
   "source": [
    "Nombre=input(\"Como se llama:\")"
   ]
  },
  {
   "cell_type": "code",
   "execution_count": null,
   "id": "902a783e",
   "metadata": {},
   "outputs": [],
   "source": [
    "Nombre_estudiante=input(\"¿Cómo te llamas?\")\n",
    "print(\"Bienvenido\", Nombre_estudiante, \"Será un gran día hoy\")"
   ]
  },
  {
   "cell_type": "code",
   "execution_count": null,
   "id": "ada41d48",
   "metadata": {},
   "outputs": [],
   "source": [
    "Nombre_estudiante = input(\"¿Cómo te llamas?\")\n",
    "print(\"Bienvenido\", Nombre_estudiante)"
   ]
  },
  {
   "cell_type": "code",
   "execution_count": null,
   "id": "0426fecc",
   "metadata": {},
   "outputs": [],
   "source": [
    "Nombre_estudiante=input(\"¿Cómo te llamas?\")\n",
    "print(\"Bienvenido\", Nombre_estudiante)"
   ]
  },
  {
   "cell_type": "code",
   "execution_count": null,
   "id": "20fe373c",
   "metadata": {},
   "outputs": [],
   "source": [
    "Nombre_estudiante=input(\"¿Cómo te llamas?\")\n",
    "print(\"Bienvenido\", Nombre_estudiante)"
   ]
  },
  {
   "cell_type": "code",
   "execution_count": null,
   "id": "9cad826a",
   "metadata": {},
   "outputs": [],
   "source": [
    "a=3\n",
    "b=5\n",
    "print(\"El producto de a*b es\", a*b)"
   ]
  },
  {
   "cell_type": "code",
   "execution_count": null,
   "id": "87316ac5",
   "metadata": {},
   "outputs": [],
   "source": [
    "a=3\n",
    "b=5\n",
    "print(\"El producto de\", a, \"por\", b, \"es\", a*b)"
   ]
  },
  {
   "cell_type": "code",
   "execution_count": null,
   "id": "2546a235",
   "metadata": {},
   "outputs": [],
   "source": [
    "a=3\n",
    "b=5\n",
    "print(\"El producto de\", a, \"por\", b, \"es:\", a*b)\n"
   ]
  },
  {
   "cell_type": "code",
   "execution_count": null,
   "id": "6f8b51a5",
   "metadata": {},
   "outputs": [],
   "source": []
  },
  {
   "cell_type": "code",
   "execution_count": null,
   "id": "2f966a87",
   "metadata": {},
   "outputs": [],
   "source": [
    "a=3\n",
    "b=5\n",
    "print(\"El producto de\", a, \"por\", b, \"es\", a*b)\n"
   ]
  },
  {
   "cell_type": "code",
   "execution_count": null,
   "id": "81d0cc08",
   "metadata": {},
   "outputs": [],
   "source": [
    "a=3\n",
    "b=5\n",
    "print(\"El producto de\", a, \"por\", b, \"es\", a*b, sep \"probando\")"
   ]
  },
  {
   "cell_type": "code",
   "execution_count": null,
   "id": "16df3a98",
   "metadata": {},
   "outputs": [],
   "source": [
    "print(\"K\", end='')\n",
    "print(\"A\", end='')\n",
    "print(\"R\", end='')\n",
    "print(\"Y\", end='')"
   ]
  },
  {
   "cell_type": "code",
   "execution_count": null,
   "id": "bbee2050",
   "metadata": {},
   "outputs": [],
   "source": [
    "print(\"K\")\n",
    "print(\"A\", end='')\n",
    "print(\"R\", end='')\n",
    "print(\"Y\", end='')"
   ]
  },
  {
   "cell_type": "code",
   "execution_count": null,
   "id": "05bfbeba",
   "metadata": {},
   "outputs": [],
   "source": [
    "print(\"Luis\",sep=',')\n",
    "print(\"Mary\", sep=',')\n",
    "print(\"Moni\", sep=',')"
   ]
  },
  {
   "cell_type": "code",
   "execution_count": null,
   "id": "9483e097",
   "metadata": {},
   "outputs": [],
   "source": [
    "from math import\n",
    "x=abs(-9) + 7\n",
    "y=sqrt(16)\n",
    "print(\"La raíz cuadrada de Y\", y)"
   ]
  },
  {
   "cell_type": "code",
   "execution_count": null,
   "id": "01b4daf2",
   "metadata": {},
   "outputs": [],
   "source": [
    "from math import\n",
    "x=abs(-9) + 7\n",
    "y=sqrt(x)\n",
    "print(\"La raíz cuadrada de Y\", y)"
   ]
  },
  {
   "cell_type": "code",
   "execution_count": null,
   "id": "d7dc64f0",
   "metadata": {},
   "outputs": [],
   "source": [
    "from math import sqrt\n",
    "x=abs(-9) + 7\n",
    "y=sqrt(16)\n",
    "print(\"La raíz cuadrada de Y es\", y)"
   ]
  },
  {
   "cell_type": "code",
   "execution_count": null,
   "id": "f54182db",
   "metadata": {},
   "outputs": [],
   "source": [
    "from random import randint\n",
    "n = randint(10, 100)/3.2567\n",
    "print(n, round(n,2))"
   ]
  },
  {
   "cell_type": "code",
   "execution_count": null,
   "id": "ae5a3715",
   "metadata": {},
   "outputs": [],
   "source": [
    "from math import sqrt, log10\n",
    "x = sqrt(10)\n",
    "dB = 20*log10(x/2)"
   ]
  },
  {
   "cell_type": "code",
   "execution_count": null,
   "id": "3e5b48c6",
   "metadata": {},
   "outputs": [],
   "source": [
    "from math import sqrt\n",
    "x = sqrt(64)"
   ]
  },
  {
   "cell_type": "markdown",
   "id": "66087968",
   "metadata": {},
   "source": [
    "PRACTICA 24 DE FEBRERO DE 2024"
   ]
  },
  {
   "cell_type": "code",
   "execution_count": null,
   "id": "c024d411",
   "metadata": {},
   "outputs": [],
   "source": [
    "sqrt(9)"
   ]
  },
  {
   "cell_type": "code",
   "execution_count": null,
   "id": "8fbb894b",
   "metadata": {},
   "outputs": [],
   "source": [
    "x = sqrt(64)"
   ]
  },
  {
   "cell_type": "code",
   "execution_count": null,
   "id": "52886f18",
   "metadata": {},
   "outputs": [],
   "source": [
    "x = 3 \n",
    "print(\"- Tipo de x:\")"
   ]
  },
  {
   "cell_type": "code",
   "execution_count": null,
   "id": "af996e32",
   "metadata": {},
   "outputs": [],
   "source": [
    "Vi = 10\n",
    "Vo = 1000\n",
    "GdB = ganancia_dB(Vi, Vo)\n",
    "print('Ganancia =', GdB,'dB')"
   ]
  },
  {
   "cell_type": "code",
   "execution_count": null,
   "id": "75738ddb",
   "metadata": {},
   "outputs": [],
   "source": [
    "from math import log10\n",
    "def ganancia_dB(x, y):\n",
    "\"\"\"\n",
    "Calcula ganancia en dB: 20log(y/x)\n",
    "\"\"\"\n",
    "gain = y/x\n",
    "dB = 20*log10(gain)\n",
    "return dB\n",
    "Vi = 10\n",
    "Vo = 1000\n",
    "GdB = ganancia_dB(Vi, Vo)\n",
    "print('Ganancia =', GdB,'dB')"
   ]
  },
  {
   "cell_type": "code",
   "execution_count": null,
   "id": "dfefed07",
   "metadata": {},
   "outputs": [],
   "source": [
    "def f1(x):\n",
    "return (x/2 + 1)"
   ]
  },
  {
   "cell_type": "code",
   "execution_count": null,
   "id": "640fcced",
   "metadata": {},
   "outputs": [],
   "source": [
    "def suma(a, b):\n",
    "    resultado = a + b\n",
    "    return resultado\n",
    "resultado_suma=suma(3,5)\n",
    "print(\"El resultado de la suma es:\", resultado_suma)"
   ]
  },
  {
   "cell_type": "code",
   "execution_count": null,
   "id": "7c5c3a87",
   "metadata": {},
   "outputs": [],
   "source": [
    "def suma(a, b):\n",
    "    resultado= a+b\n",
    "resultado_suma=suma(3,5)\n",
    "print(\"El resultado de la suma es:\", resultado_suma)"
   ]
  },
  {
   "cell_type": "code",
   "execution_count": null,
   "id": "140243b7",
   "metadata": {},
   "outputs": [],
   "source": [
    "def suma(a, b):\n",
    "    a=3\n",
    "    b=8\n",
    "    resultado = a + b\n",
    "print(\"El resultado de la suma es:\", resultado)"
   ]
  },
  {
   "cell_type": "code",
   "execution_count": null,
   "id": "f7b2536e",
   "metadata": {},
   "outputs": [],
   "source": [
    "def suma(a, b):\n",
    "    resultado = a + b\n",
    "    return resultado\n",
    "resultado_suma=suma(3,5)\n",
    "print(\"El resultado de la suma es:\", resultado_suma)"
   ]
  },
  {
   "cell_type": "code",
   "execution_count": null,
   "id": "bd179b77",
   "metadata": {},
   "outputs": [],
   "source": [
    "y = 4 + f1(6)\n",
    "y = 4 + f2(6)"
   ]
  },
  {
   "cell_type": "code",
   "execution_count": null,
   "id": "01831214",
   "metadata": {},
   "outputs": [],
   "source": [
    "def f1(x):\n",
    "return (x/2 + 1)\n",
    "def f2(x):\n",
    "print(x/2 + 1)"
   ]
  },
  {
   "cell_type": "code",
   "execution_count": null,
   "id": "27a90fae",
   "metadata": {},
   "outputs": [],
   "source": [
    "def f1(x):\n",
    "return (x/2 + 1)\n",
    "f1(5)"
   ]
  },
  {
   "cell_type": "code",
   "execution_count": null,
   "id": "91d40aab",
   "metadata": {},
   "outputs": [],
   "source": [
    "def suma(a, b):\n",
    "return a+b\n",
    "res = suma(3, 5)\n",
    "print(res)"
   ]
  },
  {
   "cell_type": "code",
   "execution_count": null,
   "id": "62aedbb0",
   "metadata": {},
   "outputs": [],
   "source": [
    "def suma(a,b):\n",
    "return a+b\n",
    "res = suma(3,5)\n",
    "print(res)"
   ]
  },
  {
   "cell_type": "code",
   "execution_count": null,
   "id": "f1289171",
   "metadata": {},
   "outputs": [],
   "source": [
    "def f():\n",
    "    global x\n",
    "    x= x + \"Dentro\"\n",
    "    print(x)\n",
    "x= \"Fuera_\"\n",
    "f()"
   ]
  },
  {
   "cell_type": "code",
   "execution_count": null,
   "id": "8c7d0344",
   "metadata": {},
   "outputs": [],
   "source": [
    "def suma(a, b):\n",
    "\"\"\"Realiza la suma de dos números.\n",
    "Ejemplos:\n",
    ">>> suma(1, 2)\n",
    "3\n",
    ">>> suma(10, 10)\n",
    "20\n",
    "\"\"\"\n",
    "return a-b"
   ]
  },
  {
   "cell_type": "code",
   "execution_count": null,
   "id": "43f20795",
   "metadata": {},
   "outputs": [],
   "source": [
    "def suma(a,b):\n",
    "\"\"\"Realiza la suma de dos números.\n",
    "Ejemplos:\n",
    ">>> suma(1,2)\n",
    "3\n",
    ">>> suma(10,10)\n",
    "20\n",
    "\"\"\"\n",
    "return a-b"
   ]
  },
  {
   "cell_type": "code",
   "execution_count": null,
   "id": "55ca2adc",
   "metadata": {},
   "outputs": [],
   "source": [
    "\"\"\"Realiza la suma de dos números\n",
    "Ejemplos:\n",
    ">>> suma(1,2)\n",
    "3\n",
    ">>> suma(10,10)\n",
    "20\n",
    "\"\"\"\n",
    "return a-b"
   ]
  },
  {
   "cell_type": "code",
   "execution_count": null,
   "id": "39545ffc",
   "metadata": {},
   "outputs": [],
   "source": [
    "def saludar():\n",
    "    print(\"¡Hola, bienvenido!\")"
   ]
  },
  {
   "cell_type": "code",
   "execution_count": null,
   "id": "fd55f9eb",
   "metadata": {},
   "outputs": [],
   "source": [
    "saludar()"
   ]
  },
  {
   "cell_type": "code",
   "execution_count": null,
   "id": "6b3beaa9",
   "metadata": {},
   "outputs": [],
   "source": [
    "def suma()\n",
    "a=2\n",
    "b=3\n",
    "print(a+b)"
   ]
  },
  {
   "cell_type": "code",
   "execution_count": null,
   "id": "2611c64c",
   "metadata": {},
   "outputs": [],
   "source": [
    "suma()"
   ]
  },
  {
   "cell_type": "code",
   "execution_count": null,
   "id": "04557fdc",
   "metadata": {},
   "outputs": [],
   "source": [
    "def suma():\n",
    "a=2\n",
    "b=3\n",
    "print(a+b)"
   ]
  },
  {
   "cell_type": "code",
   "execution_count": null,
   "id": "22924f57",
   "metadata": {},
   "outputs": [],
   "source": [
    "def sumar(a,b):\n",
    "    resultado = a + b\n",
    "    print(\"La suma es:\", resultado)\n",
    "\n",
    "# Llamada a la función con argumentos\n",
    "sumar(3, 5)"
   ]
  },
  {
   "cell_type": "code",
   "execution_count": null,
   "id": "0800065b",
   "metadata": {},
   "outputs": [],
   "source": [
    "suma()"
   ]
  },
  {
   "cell_type": "code",
   "execution_count": null,
   "id": "8f695396",
   "metadata": {},
   "outputs": [],
   "source": [
    "def multiplicar(x, y):\n",
    "    resultado = x * y\n",
    "    return resultado\n",
    "\n",
    "# Llamada a la función y asignación del resultado a una variable\n",
    "producto = multiplicar(4, 6)\n",
    "print(\"El producto es:\", producto)"
   ]
  },
  {
   "cell_type": "code",
   "execution_count": null,
   "id": "c32c02f7",
   "metadata": {},
   "outputs": [],
   "source": [
    "def multiplicar(x, y):\n",
    "    resultado = x * y\n",
    "    return resultado"
   ]
  },
  {
   "cell_type": "code",
   "execution_count": null,
   "id": "d9bf2906",
   "metadata": {},
   "outputs": [],
   "source": [
    "producto = multiplicar(2, 8)\n",
    "print(\"El producto es:\", producto)"
   ]
  },
  {
   "cell_type": "code",
   "execution_count": null,
   "id": "4e2ec250",
   "metadata": {},
   "outputs": [],
   "source": [
    "def multiplicar(x, y):\n",
    "    resultado = x * y\n",
    "resultado = multiplicar(2, 8)\n",
    "print(\"El producto es:\",resultado )"
   ]
  },
  {
   "cell_type": "code",
   "execution_count": null,
   "id": "d2f7b32f",
   "metadata": {},
   "outputs": [],
   "source": [
    "def multiplicar(x, y):\n",
    "    resultado = x * y\n",
    "    return resultado\n",
    "resultado = multiplicar(2, 8)\n",
    "print(\"El producto es:\",resultado )"
   ]
  },
  {
   "cell_type": "code",
   "execution_count": null,
   "id": "05375777",
   "metadata": {},
   "outputs": [],
   "source": [
    "def suma(a,b):\n",
    "    respuesta=(a+b)\n",
    "    return respuesta\n",
    "respuesta=suma(a,b)\n",
    "print(\"El resultado de la suma es: \",respuesta)"
   ]
  },
  {
   "cell_type": "code",
   "execution_count": null,
   "id": "cfc11534",
   "metadata": {},
   "outputs": [],
   "source": [
    "def suma(a, b):\n",
    "return a+b\n",
    "res = suma(3, 5)\n",
    "print(res)"
   ]
  },
  {
   "cell_type": "code",
   "execution_count": null,
   "id": "34df5394",
   "metadata": {},
   "outputs": [],
   "source": [
    "def suma(a,b):\n",
    "return a+b\n",
    "res = suma(3,5)\n",
    "print(res)"
   ]
  },
  {
   "cell_type": "code",
   "execution_count": null,
   "id": "b2c671e2",
   "metadata": {},
   "outputs": [],
   "source": [
    "def suma(a, b):\n",
    "res = suma(3, 5)\n",
    "return a+b\n",
    "print(res)"
   ]
  },
  {
   "cell_type": "code",
   "execution_count": null,
   "id": "7bef777d",
   "metadata": {},
   "outputs": [],
   "source": [
    "def suma(a, b):\n",
    "return a+b"
   ]
  },
  {
   "cell_type": "code",
   "execution_count": null,
   "id": "78d81747",
   "metadata": {},
   "outputs": [],
   "source": [
    "def suma(a,b):\n",
    "res = suma(3,5)\n",
    "return (a+b)\n",
    "print(res)"
   ]
  },
  {
   "cell_type": "code",
   "execution_count": null,
   "id": "745e3cdd",
   "metadata": {},
   "outputs": [],
   "source": [
    "def suma(a,b):\n",
    "    return(a+b)"
   ]
  },
  {
   "cell_type": "code",
   "execution_count": null,
   "id": "00c92535",
   "metadata": {},
   "outputs": [],
   "source": [
    "def suma(a,b):\n",
    "    return(a+b)\n",
    "res=(3,5)\n",
    "print(res)"
   ]
  },
  {
   "cell_type": "code",
   "execution_count": null,
   "id": "ee7515b3",
   "metadata": {},
   "outputs": [],
   "source": [
    "def suma(a, b):\n",
    "    return a+b\n",
    "if name == \" main \":\n",
    "res = suma(3, 5)\n",
    "print(res)"
   ]
  },
  {
   "cell_type": "code",
   "execution_count": null,
   "id": "02407df7",
   "metadata": {},
   "outputs": [],
   "source": [
    "ef suma(a,b): \n",
    "    return a+b\n",
    "if name == \" main \":\n",
    "res = suma(3,5)\n",
    "print(res)"
   ]
  },
  {
   "cell_type": "code",
   "execution_count": null,
   "id": "659b4f76",
   "metadata": {},
   "outputs": [],
   "source": [
    "def saludar(nombre):\n",
    "    print(\"Hola, \"+ nommbre + \"!\")"
   ]
  },
  {
   "cell_type": "code",
   "execution_count": null,
   "id": "dd241735",
   "metadata": {},
   "outputs": [],
   "source": [
    "def saludar(nombre):\n",
    "    print(\"Hola, \"+ nombre + \"!\")"
   ]
  },
  {
   "cell_type": "code",
   "execution_count": null,
   "id": "df2dd454",
   "metadata": {},
   "outputs": [],
   "source": [
    "def suma(a,b):\n",
    "    resultado = a+b\n",
    "    return resultado"
   ]
  },
  {
   "cell_type": "code",
   "execution_count": null,
   "id": "c7f9c436",
   "metadata": {},
   "outputs": [],
   "source": [
    "print(\"cambiamos de linea \\n Nueva línea\")"
   ]
  },
  {
   "cell_type": "code",
   "execution_count": null,
   "id": "bdb96cdf",
   "metadata": {},
   "outputs": [],
   "source": [
    "\"\"\"\n",
    "Programa:\n",
    "Autor:\n",
    "Fecha:\n",
    "\"\"\""
   ]
  },
  {
   "cell_type": "code",
   "execution_count": null,
   "id": "b092559e",
   "metadata": {},
   "outputs": [],
   "source": [
    "type(15)"
   ]
  },
  {
   "cell_type": "code",
   "execution_count": null,
   "id": "083e937d",
   "metadata": {},
   "outputs": [],
   "source": [
    "type(\"Hola\")"
   ]
  },
  {
   "cell_type": "code",
   "execution_count": null,
   "id": "61479c3d",
   "metadata": {},
   "outputs": [],
   "source": [
    "type(15)"
   ]
  },
  {
   "cell_type": "code",
   "execution_count": null,
   "id": "40a9b6a0",
   "metadata": {},
   "outputs": [],
   "source": [
    "y=x/2+3\n",
    "print(y)"
   ]
  },
  {
   "cell_type": "code",
   "execution_count": null,
   "id": "0f27beeb",
   "metadata": {},
   "outputs": [],
   "source": [
    "y=(x/2)+3\n",
    "print(y)"
   ]
  },
  {
   "cell_type": "code",
   "execution_count": null,
   "id": "e938afec",
   "metadata": {},
   "outputs": [],
   "source": [
    "x=3\n",
    "y=x/2+3\n",
    "print(y)"
   ]
  },
  {
   "cell_type": "code",
   "execution_count": null,
   "id": "85c302b5",
   "metadata": {},
   "outputs": [],
   "source": [
    "x=10\n",
    "y=x/2+3\n",
    "print(y)"
   ]
  },
  {
   "cell_type": "code",
   "execution_count": null,
   "id": "4ca7b3c7",
   "metadata": {},
   "outputs": [],
   "source": [
    "1.5*3/2"
   ]
  },
  {
   "cell_type": "code",
   "execution_count": null,
   "id": "a44a66ca",
   "metadata": {},
   "outputs": [],
   "source": [
    "print(_)"
   ]
  },
  {
   "cell_type": "code",
   "execution_count": null,
   "id": "55b98e1a",
   "metadata": {},
   "outputs": [],
   "source": [
    "14/4\n",
    "14//4\n",
    "14%4"
   ]
  },
  {
   "cell_type": "code",
   "execution_count": null,
   "id": "22c4f093",
   "metadata": {},
   "outputs": [],
   "source": [
    "14//4"
   ]
  },
  {
   "cell_type": "code",
   "execution_count": null,
   "id": "0a982ecc",
   "metadata": {},
   "outputs": [],
   "source": [
    "#Programa que convierte grados en farengeir \n",
    "c=float(input(\"La temperatura en grados es: \"))\n",
    "f=1.8*c+32\n",
    "print(c, \"°c equivale a\", f, \"°f\" )\n"
   ]
  },
  {
   "cell_type": "code",
   "execution_count": null,
   "id": "16f14043",
   "metadata": {},
   "outputs": [],
   "source": [
    "#Para convertir metros en pies\n",
    "p=float(input(\"Mi estatura en pies es: \"))\n",
    "q=3.28084\n",
    "resultado=p*q\n",
    "print(\"c, resultado\")"
   ]
  },
  {
   "cell_type": "code",
   "execution_count": null,
   "id": "ae8c5067",
   "metadata": {},
   "outputs": [],
   "source": [
    "#Para convertir metros en pies\n",
    "p=float(input(\"Mi estatura en metros es: \"))\n",
    "resultado=p*3.28084\n",
    "print(resultado, \" metros, equivalen a \", resultado, \"pies\")"
   ]
  },
  {
   "cell_type": "code",
   "execution_count": null,
   "id": "359e11c4",
   "metadata": {},
   "outputs": [],
   "source": [
    "#Para convertir metros en pies\n",
    "p=float(input(\"Mi estatura en metros es: \"))\n",
    "resultado=p*3.28084\n",
    "print(p, \"equivale a \",resultado, \"pies\")"
   ]
  },
  {
   "cell_type": "code",
   "execution_count": null,
   "id": "a21de511",
   "metadata": {},
   "outputs": [],
   "source": [
    "p=float(input(\"Mi estatura en metros es: \"))\n",
    "pies=3.28084*p\n",
    "print(p, \"equivale a \", pies, \"pies\")"
   ]
  },
  {
   "cell_type": "code",
   "execution_count": null,
   "id": "07b1df61",
   "metadata": {},
   "outputs": [],
   "source": [
    "p = float(input(\"Mi estatura en metros es: \"))\n",
    "pies = 3.28084 * p\n",
    "print(f\"{p} metros equivale a {pies:.2f} pies\")"
   ]
  },
  {
   "cell_type": "code",
   "execution_count": null,
   "id": "db0f00e9",
   "metadata": {},
   "outputs": [],
   "source": [
    "p = float(input(\"Mi estatura en metros es: \"))\n",
    "pies = 3.28084 * p\n",
    "print(p \"metros, equivalen a \" pies, \"pies\")"
   ]
  },
  {
   "cell_type": "code",
   "execution_count": null,
   "id": "03a714dc",
   "metadata": {},
   "outputs": [],
   "source": [
    "p = float(input(\"Mi estatura en metros es: \"))\n",
    "pies = 3.28084 * p\n",
    "print(f\"{p} metros equivale a {pies} pies\")"
   ]
  },
  {
   "cell_type": "code",
   "execution_count": null,
   "id": "67923451",
   "metadata": {},
   "outputs": [],
   "source": [
    "p = float(input(\"Mi estatura en metros es: \"))\n",
    "pies = 3.28084 * p\n",
    "print(f\"{p} metros equivale a {pies} pies\")"
   ]
  },
  {
   "cell_type": "code",
   "execution_count": null,
   "id": "5adb7ffc",
   "metadata": {},
   "outputs": [],
   "source": [
    "p = float(input(\"Mi estatura en metros es: \"))\n",
    "pies = 3.28084 * p\n",
    "print(f\"{p} metros equivale a {pies:.2f} pies\")"
   ]
  },
  {
   "cell_type": "code",
   "execution_count": null,
   "id": "e582924d",
   "metadata": {},
   "outputs": [],
   "source": [
    "#Para calcular el perímetro y radio de un círculo\n",
    "from math import pi\n",
    "r=float(input(\"Introduzca el radio del círculo: \"))\n",
    "perímetro=2*pi*r\n",
    "area=pi*r**2"
   ]
  },
  {
   "cell_type": "code",
   "execution_count": null,
   "id": "924b5b55",
   "metadata": {},
   "outputs": [],
   "source": [
    "#Para calcular el perímetro y radio de un círculo\n",
    "from math import pi\n",
    "r=float(input(\"Introduzca el radio del círculo: \"))\n",
    "perímetro=2*pi*r\n",
    "area=pi*r**2"
   ]
  },
  {
   "cell_type": "code",
   "execution_count": null,
   "id": "40d2f7f2",
   "metadata": {},
   "outputs": [],
   "source": [
    "#Para calcular el perímetro y radio de un círculo\n",
    "from math import pi\n",
    "r=float(input(\"Introduzca el radio del círculo: \"))\n",
    "perímetro=2*pi*r\n",
    "area=pi*r**2\n",
    "print(\"El perímetro del círculo es: \"perímetro)\n",
    "print(\"El área del círculo es: \"area)"
   ]
  },
  {
   "cell_type": "code",
   "execution_count": null,
   "id": "109468f6",
   "metadata": {},
   "outputs": [],
   "source": [
    "from math import pi\n",
    "r=float(input(\"Introduzca el radio del círculo: \"))\n",
    "perímetro=2*pi*r\n",
    "area=pi*r**2"
   ]
  },
  {
   "cell_type": "code",
   "execution_count": null,
   "id": "401c30ab",
   "metadata": {},
   "outputs": [],
   "source": [
    "#Para calcular el perímetro y radio de un círculo\n",
    "from math import pi\n",
    "r=float(input(\"Introduzca el radio del círculo: \"))\n",
    "perímetro=2*pi*r\n",
    "area=pi*r**2\n",
    "print(\"El perímetro del círculo es: \",perímetro)\n",
    "print(\"El área del círculo es: \",area)"
   ]
  },
  {
   "cell_type": "code",
   "execution_count": null,
   "id": "08a7d4d4",
   "metadata": {},
   "outputs": [],
   "source": [
    "#Para calcular el perímetro y radio de un círculo\n",
    "from math import pi\n",
    "r=float(input(\"Introduzca el radio del círculo: \"))\n",
    "per=2*pi*r\n",
    "area=pi*r**2\n",
    "print(\"Perímetro =\", per)\n",
    "print(\"Área =\", area)"
   ]
  },
  {
   "cell_type": "code",
   "execution_count": null,
   "id": "cbc90c08",
   "metadata": {},
   "outputs": [],
   "source": []
  },
  {
   "cell_type": "code",
   "execution_count": null,
   "id": "fb2b6606",
   "metadata": {},
   "outputs": [],
   "source": [
    "#Para calcular el perímetro y radio de un círculo\n",
    "from math import pi\n",
    "r=float(input(\"Introduzca el radio del círculo: \"))\n",
    "per=2*pi*r\n",
    "area=pi*r**2\n",
    "print(\"Perímetro =\", per)\n",
    "print(\"Área =\", area)"
   ]
  },
  {
   "cell_type": "code",
   "execution_count": null,
   "id": "e2429737",
   "metadata": {},
   "outputs": [],
   "source": [
    "from math import pi\n",
    "r=float(input(\"Introduzca el radio del círculo: \"))\n",
    "per=2*pi*r\n",
    "area=pi*r**2\n",
    "print(\"Perímetro =\", per)\n",
    "print(\"Área =\", area)"
   ]
  },
  {
   "cell_type": "code",
   "execution_count": null,
   "id": "4121cae8",
   "metadata": {},
   "outputs": [],
   "source": [
    "#Para convertir metros en pies\n",
    "p=float(input(\"Mi estatura en metros es: \"))\n",
    "resultado=p*3.28084\n",
    "print(resultado, \" metros, equivalen a \", resultado, \"pies\")"
   ]
  },
  {
   "cell_type": "code",
   "execution_count": null,
   "id": "00cda228",
   "metadata": {},
   "outputs": [],
   "source": [
    "from math import pi\n",
    "r=float(input(\"Introduzca el radio del círculo: \"))\n",
    "per=2*pi*r\n",
    "area=pi*r**2\n",
    "print(\"Perímetro =\", per)\n",
    "print(\"Área =\", area)"
   ]
  },
  {
   "cell_type": "code",
   "execution_count": null,
   "id": "4ba471f0",
   "metadata": {},
   "outputs": [],
   "source": [
    "from math import pi\n",
    "r=float(input(\"Introduzca el radio del círculo: \"))\n",
    "per=2*pi*r\n",
    "area=pi*r**2\n",
    "print(\"Perímetro =\", round(per,2)\n"
   ]
  },
  {
   "cell_type": "code",
   "execution_count": null,
   "id": "0cb1274f",
   "metadata": {},
   "outputs": [],
   "source": [
    "from math import pi\n",
    "r=float(input(\"Introduzca el radio del círculo: \"))\n",
    "per=2*pi*r\n",
    "area=pi*r**2\n",
    "print(\"Perímetro =\", round(per,2)"
   ]
  },
  {
   "cell_type": "code",
   "execution_count": null,
   "id": "69e9b2d0",
   "metadata": {},
   "outputs": [],
   "source": [
    "from math import pi\n",
    "r=float(input(\"Introduzca el radio del círculo: \"))\n",
    "per=2*pi*r\n",
    "area=pi*r**2\n",
    "print(\"Perímetro =\", per)\n",
    "print(\"Área =\", round(area,2)"
   ]
  },
  {
   "cell_type": "code",
   "execution_count": null,
   "id": "78d0bfc0",
   "metadata": {},
   "outputs": [],
   "source": [
    "p=float(input(\"Mi estatura en metros es: \"))\n",
    "pies=3.28084*p\n",
    "print(p, \"equivale a \", pies, \"pies\")"
   ]
  },
  {
   "cell_type": "code",
   "execution_count": null,
   "id": "8a1bd69d",
   "metadata": {},
   "outputs": [],
   "source": [
    "from math import pi, round\n",
    "r=float(input(\"Introduzca el radio del círculo: \"))\n",
    "per=2*pi*r\n",
    "area=pi*r**2\n",
    "print(\"Perímetro =\", per)\n",
    "print(\"Área =\", round(area,2)"
   ]
  },
  {
   "cell_type": "code",
   "execution_count": null,
   "id": "d244078f",
   "metadata": {},
   "outputs": [],
   "source": [
    "from math import pi\n",
    "r=float(input(\"Introduzca el radio del círculo: \"))\n",
    "per=2*pi*r\n",
    "area=pi*r**2\n",
    "print(\"Perímetro =\", per)\n",
    "print(\"Área =\", area)"
   ]
  },
  {
   "cell_type": "code",
   "execution_count": null,
   "id": "3b46ad64",
   "metadata": {},
   "outputs": [],
   "source": [
    "from math import pi\n",
    "r=float(input(\"Introduzca el radio del círculo: \"))\n",
    "per=2*pi*r\n",
    "area=pi*r**2\n",
    "print(\"Perímetro = %.2f\", % per)\n",
    "print(\"Área =\", round(area, 2)"
   ]
  },
  {
   "cell_type": "code",
   "execution_count": null,
   "id": "ec9f012e",
   "metadata": {},
   "outputs": [],
   "source": [
    "from math import pi\n",
    "r=float(input(\"Introduzca el radio del círculo: \"))\n",
    "per=2*pi*r\n",
    "area=pi*r**2\n",
    "print(\"Perímetro =\", per)\n",
    "print(\"Área =\", area)"
   ]
  },
  {
   "cell_type": "code",
   "execution_count": null,
   "id": "8da32943",
   "metadata": {},
   "outputs": [],
   "source": [
    "print(\"Perímetro = %.2f\", % per)\n",
    "print(\"Área =\", round(area, 2))"
   ]
  },
  {
   "cell_type": "code",
   "execution_count": null,
   "id": "14c18bbd",
   "metadata": {},
   "outputs": [],
   "source": [
    "print(\"Perímetro = %.2f\" % per)\n",
    "print(\"Área =\", round(area, 2))"
   ]
  },
  {
   "cell_type": "code",
   "execution_count": null,
   "id": "54e8b28c",
   "metadata": {},
   "outputs": [],
   "source": [
    "print(\"Perímetro = %.2f\", % per)\n",
    "print(\"Área =\", round(area, 2))"
   ]
  },
  {
   "cell_type": "markdown",
   "id": "bd339f24",
   "metadata": {},
   "source": [
    "#3.2 Estructuras alternativas"
   ]
  },
  {
   "cell_type": "code",
   "execution_count": null,
   "id": "a8e8504c",
   "metadata": {},
   "outputs": [],
   "source": [
    "x=float(input(\"Digita un número: \"))\n",
    "if x < o:\n",
    "    x=-x\n",
    "    print(\"El valor absoluto es: \", x)"
   ]
  },
  {
   "cell_type": "code",
   "execution_count": null,
   "id": "e07b8325",
   "metadata": {},
   "outputs": [],
   "source": [
    "x=float(input(\"Digita un número: \"))\n",
    "if x < o:\n",
    "    x=-x\n",
    "    print(\"El valor absoluto es: \", x)"
   ]
  },
  {
   "cell_type": "code",
   "execution_count": null,
   "id": "84ec6f87",
   "metadata": {},
   "outputs": [],
   "source": [
    "x = float(input(\"Digita un número: \"))\n",
    "if x < 0:\n",
    "    x = -x\n",
    "    print('El valor absoluto es: ', x)"
   ]
  },
  {
   "cell_type": "code",
   "execution_count": null,
   "id": "096aee18",
   "metadata": {},
   "outputs": [],
   "source": [
    "x = float(input(\"Digita un número: \"))\n",
    "if x < 0:\n",
    "    x = -x\n",
    "    print('El valor absoluto es: ', x)"
   ]
  },
  {
   "cell_type": "code",
   "execution_count": null,
   "id": "0edb5b32",
   "metadata": {},
   "outputs": [],
   "source": [
    "x = float(input(\"Digita un número: \"))\n",
    "if x < 0:\n",
    "    x = -x\n",
    "    print('El valor absoluto es: ', x)"
   ]
  },
  {
   "cell_type": "code",
   "execution_count": null,
   "id": "591656d6",
   "metadata": {},
   "outputs": [],
   "source": [
    "# Solicitar al usuario que ingrese un número\n",
    "numero = float(input(\"Ingrese un número: \"))\n",
    "\n",
    "# Calcular el valor absoluto\n",
    "valor_absoluto = abs(numero)\n",
    "\n",
    "# Imprimir el resultado\n",
    "print(f\"El valor absoluto de {numero} es {valor_absoluto}\")"
   ]
  },
  {
   "cell_type": "code",
   "execution_count": null,
   "id": "2ef1a1b8",
   "metadata": {},
   "outputs": [],
   "source": [
    "# Solicitar al usuario que ingrese un número\n",
    "numero = float(input(\"Ingrese un número: \"))\n",
    "\n",
    "# Calcular el valor absoluto\n",
    "valor_absoluto = abs(numero)\n",
    "\n",
    "# Imprimir el resultado\n",
    "print(f\"El valor absoluto de {numero} es {valor_absoluto}\")"
   ]
  },
  {
   "cell_type": "code",
   "execution_count": null,
   "id": "f5e016d7",
   "metadata": {},
   "outputs": [],
   "source": [
    "# Solicitar al usuario que ingrese un número\n",
    "numero = float(input(\"Ingrese un número: \"))\n",
    "\n",
    "# Calcular el valor absoluto\n",
    "valor_absoluto = abs(numero)\n",
    "\n",
    "# Imprimir el resultado\n",
    "print(f\"El valor absoluto de {numero} es {valor_absoluto}\")"
   ]
  },
  {
   "cell_type": "code",
   "execution_count": null,
   "id": "a03e42b6",
   "metadata": {},
   "outputs": [],
   "source": [
    "# Solicitar al usuario que ingrese un número\n",
    "numero = float(input(\"Ingrese un número: \"))\n",
    "\n",
    "# Calcular el valor absoluto\n",
    "valor_absoluto = abs(numero)\n",
    "\n",
    "# Imprimir el resultado\n",
    "print(f\"El valor absoluto de {numero} es {valor_absoluto}\")"
   ]
  },
  {
   "cell_type": "code",
   "execution_count": null,
   "id": "22d29324",
   "metadata": {},
   "outputs": [],
   "source": [
    "# Solicitar al usuario que ingrese un número\n",
    "numero = float(input(\"Ingrese un número: \"))\n",
    "\n",
    "# Calcular el valor absoluto\n",
    "valor_absoluto = abs(numero)\n",
    "\n",
    "# Imprimir el resultado\n",
    "print(f\"El valor absoluto de {numero} es {valor_absoluto}\")"
   ]
  },
  {
   "cell_type": "code",
   "execution_count": null,
   "id": "5a47e58a",
   "metadata": {},
   "outputs": [],
   "source": [
    "# Solicitar al usuario que ingrese un número\n",
    "numero = float(input(\"Ingrese un número: \"))\n",
    "\n",
    "# Calcular el valor absoluto\n",
    "valor_absoluto = abs(numero)\n",
    "\n",
    "# Imprimir el resultado\n",
    "print(f\"El valor absoluto de {numero} es {valor_absoluto}\")"
   ]
  },
  {
   "cell_type": "code",
   "execution_count": null,
   "id": "9c2daf0c",
   "metadata": {},
   "outputs": [],
   "source": [
    "# Solicitar al usuario que ingrese un número\n",
    "numero = float(input(\"Ingrese un número: \"))\n",
    "\n",
    "# Calcular el valor absoluto\n",
    "valor_absoluto = abs(numero)\n",
    "\n",
    "# Imprimir el resultado\n",
    "print(f\"El valor absoluto de {numero} es {valor_absoluto}\")"
   ]
  },
  {
   "cell_type": "code",
   "execution_count": null,
   "id": "2d7a7d8c",
   "metadata": {},
   "outputs": [],
   "source": [
    "# Solicitar al usuario que ingrese un número\n",
    "numero = float(input(\"Ingrese un número: \"))\n",
    "\n",
    "# Calcular el valor absoluto\n",
    "valor_absoluto = abs(numero)\n",
    "\n",
    "# Imprimir el resultado\n",
    "print(\"El valor absoluto de {numero} es {valor_absoluto}\")"
   ]
  },
  {
   "cell_type": "code",
   "execution_count": null,
   "id": "9360a672",
   "metadata": {},
   "outputs": [],
   "source": [
    "print(\"El valor absoluto de\", numero, \"es\", valor_absoluto)"
   ]
  },
  {
   "cell_type": "markdown",
   "id": "118d7080",
   "metadata": {},
   "source": [
    "# 3.2.2 Estructura alternativa doble (if-else)"
   ]
  },
  {
   "cell_type": "code",
   "execution_count": null,
   "id": "5d26b81d",
   "metadata": {},
   "outputs": [],
   "source": [
    "#Balance financiero\n",
    "CuentaAhorros = 10000 \n",
    "saldo = float(input(\"¿Cuál es el saldo de la cuenta corriente?: \"))\n",
    "if saldo < 0\n",
    "transferir = -saldo\n",
    "CuentaAhorros = CuentaAhorros - transferir\n",
    "saldo=saldo+transferir\n",
    "print(\"Los fondos de la cuenta de ahorros son: \", CuentaAhorros)"
   ]
  },
  {
   "cell_type": "code",
   "execution_count": null,
   "id": "a7990ef2",
   "metadata": {},
   "outputs": [],
   "source": [
    "#Balance financiero\n",
    "CuentaAhorros = 10000 \n",
    "saldo = float(input(\"¿Cuál es el saldo de la cuenta corriente?: \"))\n",
    "if saldo < 0:\n",
    "transferir = -saldo\n",
    "CuentaAhorros = CuentaAhorros - transferir\n",
    "saldo=saldo+transferir\n",
    "print(\"Los fondos de la cuenta de ahorros son: \", CuentaAhorros)"
   ]
  },
  {
   "cell_type": "code",
   "execution_count": null,
   "id": "2c28e922",
   "metadata": {},
   "outputs": [],
   "source": [
    "#Balance financiero\n",
    "CuentaAhorros = 10000 \n",
    "saldo = float(input(\"¿Cuál es el saldo de la cuenta corriente?: \"))\n",
    "if saldo < 0:\n",
    "transferir = -saldo\n",
    "CuentaAhorros = CuentaAhorros - transferir\n",
    "saldo=saldo+transferir\n",
    "print(\"Los fondos de la cuenta de ahorros son: \", CuentaAhorros)"
   ]
  },
  {
   "cell_type": "code",
   "execution_count": null,
   "id": "d5389d89",
   "metadata": {},
   "outputs": [],
   "source": [
    "CuentaAhorros = 10000\n",
    "saldo=float(input(\"¿Cuál es el saldo de la cuenta corriente?\"))\n",
    "if saldo < 0:\n",
    "    transferir = -saldo\n",
    "    CuentaAhorros = CuentaAhorros - transferir\n",
    "    saldo=saldo+transferir\n",
    "print(\"Los fondos de la cuenta de ahorros son: \", CuentaAhorros)"
   ]
  },
  {
   "cell_type": "code",
   "execution_count": null,
   "id": "96f9bb42",
   "metadata": {},
   "outputs": [],
   "source": []
  },
  {
   "cell_type": "markdown",
   "id": "20bd328f",
   "metadata": {},
   "source": [
    "#Encontrar la solución de una ecuación ax+b=0"
   ]
  },
  {
   "cell_type": "code",
   "execution_count": null,
   "id": "f77eb43d",
   "metadata": {},
   "outputs": [],
   "source": [
    "a=float(input('a= '))\n",
    "b=float(input('b='))"
   ]
  }
 ],
 "metadata": {
  "kernelspec": {
   "display_name": "Python 3 (ipykernel)",
   "language": "python",
   "name": "python3"
  },
  "language_info": {
   "codemirror_mode": {
    "name": "ipython",
    "version": 3
   },
   "file_extension": ".py",
   "mimetype": "text/x-python",
   "name": "python",
   "nbconvert_exporter": "python",
   "pygments_lexer": "ipython3",
   "version": "3.12.1"
  }
 },
 "nbformat": 4,
 "nbformat_minor": 5
}
