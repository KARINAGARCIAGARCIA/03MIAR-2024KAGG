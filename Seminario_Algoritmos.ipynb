{
  "nbformat": 4,
  "nbformat_minor": 0,
  "metadata": {
    "colab": {
      "provenance": [],
      "include_colab_link": true
    },
    "kernelspec": {
      "name": "python3",
      "display_name": "Python 3"
    }
  },
  "cells": [
    {
      "cell_type": "markdown",
      "metadata": {
        "id": "view-in-github",
        "colab_type": "text"
      },
      "source": [
        "<a href=\"https://colab.research.google.com/github/KARINAGARCIAGARCIA/03MIAR-2024KAGG/blob/main/Seminario_Algoritmos.ipynb\" target=\"_parent\"><img src=\"https://colab.research.google.com/assets/colab-badge.svg\" alt=\"Open In Colab\"/></a>"
      ]
    },
    {
      "cell_type": "markdown",
      "metadata": {
        "id": "hVbXYX-RfPWh"
      },
      "source": [
        "# Algoritmos de optimización - Seminario<br>\n",
        "Nombre y Apellidos:   KARINA ALAEXANDRA GARCÍA GARÍA <br>\n",
        "Url:\n",
        "<br>\n",
        "Problema: 1. Sesiones de doblaje <br>\n",
        "\n",
        "Descripción del problema:Se precisa coordinar el doblaje de una película. Los actores del doblaje deben coincidir en las tomas en las que sus personajes aparecen juntos en las diferentes tomas. Los actores de doblaje cobran toda la misma cantidad por cada día que deben desplazarse hasta el estudio de grabación independientemente del número de tomas que se graben.\n",
        "No es posible grabar más de 6 tomas por día. El objetivo es planificar las sesiones por día de manera que el gasto por los servicios de los actores de doblaje sea el menor posible.\n",
        "\n",
        "(*) La respuesta es obligatoria\n",
        "\n",
        "\n",
        "\n",
        "\n",
        "\n",
        "                                        "
      ]
    },
    {
      "cell_type": "code",
      "metadata": {
        "id": "AiskKkzZfy4e",
        "colab": {
          "base_uri": "https://localhost:8080/",
          "height": 349
        },
        "outputId": "69bc0dd2-5c82-4264-bbe4-9763f5e14fe3"
      },
      "source": [
        "# Librerías\n",
        "import numpy as np\n",
        "import random\n",
        "import math\n",
        "import time\n",
        "from itertools import combinations\n",
        "import pulp"
      ],
      "execution_count": 3,
      "outputs": [
        {
          "output_type": "error",
          "ename": "ModuleNotFoundError",
          "evalue": "No module named 'pulp'",
          "traceback": [
            "\u001b[0;31m---------------------------------------------------------------------------\u001b[0m",
            "\u001b[0;31mModuleNotFoundError\u001b[0m                       Traceback (most recent call last)",
            "\u001b[0;32m<ipython-input-3-55a212bbab33>\u001b[0m in \u001b[0;36m<cell line: 7>\u001b[0;34m()\u001b[0m\n\u001b[1;32m      5\u001b[0m \u001b[0;32mimport\u001b[0m \u001b[0mtime\u001b[0m\u001b[0;34m\u001b[0m\u001b[0;34m\u001b[0m\u001b[0m\n\u001b[1;32m      6\u001b[0m \u001b[0;32mfrom\u001b[0m \u001b[0mitertools\u001b[0m \u001b[0;32mimport\u001b[0m \u001b[0mcombinations\u001b[0m\u001b[0;34m\u001b[0m\u001b[0;34m\u001b[0m\u001b[0m\n\u001b[0;32m----> 7\u001b[0;31m \u001b[0;32mimport\u001b[0m \u001b[0mpulp\u001b[0m\u001b[0;34m\u001b[0m\u001b[0;34m\u001b[0m\u001b[0m\n\u001b[0m",
            "\u001b[0;31mModuleNotFoundError\u001b[0m: No module named 'pulp'",
            "",
            "\u001b[0;31m---------------------------------------------------------------------------\u001b[0;32m\nNOTE: If your import is failing due to a missing package, you can\nmanually install dependencies using either !pip or !apt.\n\nTo view examples of installing some common dependencies, click the\n\"Open Examples\" button below.\n\u001b[0;31m---------------------------------------------------------------------------\u001b[0m\n"
          ],
          "errorDetails": {
            "actions": [
              {
                "action": "open_url",
                "actionText": "Open Examples",
                "url": "/notebooks/snippets/importing_libraries.ipynb"
              }
            ]
          }
        }
      ]
    },
    {
      "cell_type": "markdown",
      "source": [
        "El espacio de soluciones se representa con la siguiente Matriz. <br> <br>\n",
        "Número de actores: 10 <br>Número de tomas : 30 <br>\n",
        "   \n",
        "* 1 indica que el actor participa en la toma <br>\n",
        "* 0 en caso contrario <br>\n",
        "\n",
        "\n",
        "\n",
        "\n",
        "\n",
        "Cada fila representa la correspondiente toma y cada columna representa el actor."
      ],
      "metadata": {
        "id": "S0cvphNIErfW"
      }
    },
    {
      "cell_type": "code",
      "source": [
        "Matriz de actores y tomas\n",
        "matrix = np.array([\n",
        "[1, 1, 1, 1, 1, 0, 0, 0, 0, 0],\n",
        "[0, 0, 1, 1, 1, 0, 0, 0, 0, 0],\n",
        "[0, 1, 0, 0, 1, 0, 1, 0, 0, 0],\n",
        "[1, 1, 0, 0, 0, 0, 1, 1, 0, 0],\n",
        "[0, 1, 0, 1, 0, 0, 0, 1, 0, 0],\n",
        "[1, 1, 0, 1, 1, 0, 0, 0, 0, 0],\n",
        "[1, 1, 0, 1, 1, 0, 0, 0, 0, 0],\n",
        "[1, 1, 0, 0, 0, 1, 0, 0, 0, 0],\n",
        "[1, 1, 0, 1, 0, 0, 0, 0, 0, 0],\n",
        "[1, 1, 0, 0, 0, 1, 0, 0, 1, 0],\n",
        "[1, 1, 1, 0, 1, 0, 0, 1, 0, 0],\n",
        "[1, 1, 1, 1, 0, 1, 0, 0, 0, 0],\n",
        "[1, 0, 0, 1, 1, 0, 0, 0, 0, 0],\n",
        "[1, 0, 1, 0, 0, 1, 0, 0, 0, 0],\n",
        "[1, 1, 0, 0, 0, 0, 1, 0, 0, 0],\n",
        "[0, 0, 0, 1, 0, 0, 0, 0, 0, 1],\n",
        "[1, 0, 1, 0, 0, 0, 0, 0, 0, 0],\n",
        "[0, 0, 1, 0, 0, 1, 0, 0, 0, 0],\n",
        "[1, 0, 1, 0, 0, 0, 0, 0, 0, 0],\n",
        "[1, 0, 1, 1, 1, 0, 0, 0, 0, 0],\n",
        "[0, 0, 0, 0, 0, 1, 0, 1, 0, 0],\n",
        "[1, 1, 1, 1, 0, 0, 0, 0, 0, 0],\n",
        "[1, 0, 1, 0, 0, 0, 0, 0, 0, 0],\n",
        "[0, 0, 1, 0, 0, 1, 0, 0, 0, 0],\n",
        "[1, 1, 0, 1, 0, 0, 0, 0, 0, 1],\n",
        "[1, 0, 1, 0, 1, 0, 0, 0, 1, 0],\n",
        "[0, 0, 0, 1, 1, 0, 0, 0, 0, 0],\n",
        "[1, 0, 0, 1, 0, 0, 0, 0, 0, 0],\n",
        "[1, 0, 0, 0, 1, 1, 0, 0, 0, 0],\n",
        "[1, 0, 0, 1, 0, 0, 0, 0, 0, 0]\n",
        "])"
      ],
      "metadata": {
        "colab": {
          "base_uri": "https://localhost:8080/",
          "height": 106
        },
        "id": "xTwooTNTH8No",
        "outputId": "384148c8-a4b4-46b3-b8c3-5a4b4fb13dac"
      },
      "execution_count": 5,
      "outputs": [
        {
          "output_type": "error",
          "ename": "SyntaxError",
          "evalue": "invalid syntax (<ipython-input-5-df137d714a30>, line 1)",
          "traceback": [
            "\u001b[0;36m  File \u001b[0;32m\"<ipython-input-5-df137d714a30>\"\u001b[0;36m, line \u001b[0;32m1\u001b[0m\n\u001b[0;31m    Matriz de actores y tomas\u001b[0m\n\u001b[0m           ^\u001b[0m\n\u001b[0;31mSyntaxError\u001b[0m\u001b[0;31m:\u001b[0m invalid syntax\n"
          ]
        }
      ]
    },
    {
      "cell_type": "markdown",
      "source": [
        "A CONTINUACIÓN SE DESARROLLA EL EJERCICIO"
      ],
      "metadata": {
        "id": "W1zq6MiBIFUl"
      }
    },
    {
      "cell_type": "markdown",
      "source": [
        "Restricciones:"
      ],
      "metadata": {
        "id": "3g4g8rnbIN7u"
      }
    },
    {
      "cell_type": "code",
      "source": [
        "# Número de días y tomas por día\n",
        "days = 5\n",
        "takes_per_day = 6\n",
        "total_takes = matrix.shape[0] # Número total de tomas"
      ],
      "metadata": {
        "colab": {
          "base_uri": "https://localhost:8080/",
          "height": 176
        },
        "id": "9n53My6VIRG_",
        "outputId": "04280941-a4c1-4839-d94f-ff040d9664a3"
      },
      "execution_count": 6,
      "outputs": [
        {
          "output_type": "error",
          "ename": "NameError",
          "evalue": "name 'matrix' is not defined",
          "traceback": [
            "\u001b[0;31m---------------------------------------------------------------------------\u001b[0m",
            "\u001b[0;31mNameError\u001b[0m                                 Traceback (most recent call last)",
            "\u001b[0;32m<ipython-input-6-414229e35ad9>\u001b[0m in \u001b[0;36m<cell line: 4>\u001b[0;34m()\u001b[0m\n\u001b[1;32m      2\u001b[0m \u001b[0mdays\u001b[0m \u001b[0;34m=\u001b[0m \u001b[0;36m5\u001b[0m\u001b[0;34m\u001b[0m\u001b[0;34m\u001b[0m\u001b[0m\n\u001b[1;32m      3\u001b[0m \u001b[0mtakes_per_day\u001b[0m \u001b[0;34m=\u001b[0m \u001b[0;36m6\u001b[0m\u001b[0;34m\u001b[0m\u001b[0;34m\u001b[0m\u001b[0m\n\u001b[0;32m----> 4\u001b[0;31m \u001b[0mtotal_takes\u001b[0m \u001b[0;34m=\u001b[0m \u001b[0mmatrix\u001b[0m\u001b[0;34m.\u001b[0m\u001b[0mshape\u001b[0m\u001b[0;34m[\u001b[0m\u001b[0;36m0\u001b[0m\u001b[0;34m]\u001b[0m \u001b[0;31m# Número total de tomas\u001b[0m\u001b[0;34m\u001b[0m\u001b[0;34m\u001b[0m\u001b[0m\n\u001b[0m",
            "\u001b[0;31mNameError\u001b[0m: name 'matrix' is not defined"
          ]
        }
      ]
    },
    {
      "cell_type": "markdown",
      "metadata": {
        "id": "3_-exlrTgLd-"
      },
      "source": [
        "**¿Cuántas posibilidades hay sin tener en cuenta las restricciones?**  \n",
        "\n",
        "\n",
        "\n",
        "\n",
        "\n"
      ]
    },
    {
      "cell_type": "markdown",
      "source": [
        "Sin tomar en cuenta las restricciones, de las 30 tomas a uno de los días disponibles. Siendo \"D\" el número de días disponibles de grabación, entonces el número de posibilidades es: ***D^3***."
      ],
      "metadata": {
        "id": "t16D8-osIc_X"
      }
    },
    {
      "cell_type": "markdown",
      "source": [
        "\n",
        "**¿Cuantas posibilidades hay teniendo en cuenta todas las restricciones.**"
      ],
      "metadata": {
        "id": "08n_2I2hJ-4f"
      }
    },
    {
      "cell_type": "markdown",
      "source": [
        "Se consideran todas las posibles distribuciones de las 30 tomas en grupos de 6. Para calcular el número total de estas distribuciones, primero se determina cuántas maneras hay de organizar las 30 tomas, luego se divide entre las posibles formas de ordenar las 6 tomas dentro de cada grupo, y finalmente se toma en cuenta las maneras de ordenar los 5 grupos.\n",
        "\n",
        "Utilizando la fórmula de combinaciones, este valor se obtiene como: <br> <br>\n",
        "\n",
        "30!/(6!)^5* 5! = 11423951396577720 <br>\n",
        "\n",
        "Este resultado implica que un algoritmo de fuerza bruta tendría que generar y evaluar una cantidad extremadamente elevada de soluciones posibles, lo que haría que dicho enfoque sea muy ineficiente y poco práctico en términos de tiempo."
      ],
      "metadata": {
        "id": "ChUmqCPjKk53"
      }
    },
    {
      "cell_type": "code",
      "source": [
        "import math\n",
        "# Para calcular el número de formas de dividir 30 tomas en 5 grupos de 6\n",
        "num_ways = math.factorial(30) / (math.factorial(6)**5 * math.factorial(5))\n",
        "# Para imprimir el número en notación decimal\n",
        "print(format(num_ways, '.0f'))"
      ],
      "metadata": {
        "colab": {
          "base_uri": "https://localhost:8080/"
        },
        "id": "49lHNlMWH3LF",
        "outputId": "3d3719eb-debd-4874-a3bc-a96de141af4e"
      },
      "execution_count": 7,
      "outputs": [
        {
          "output_type": "stream",
          "name": "stdout",
          "text": [
            "11423951396577720\n"
          ]
        }
      ]
    },
    {
      "cell_type": "markdown",
      "metadata": {
        "id": "WfCUqJyKhPcw"
      },
      "source": [
        "Respuesta: 11423951396577720"
      ]
    },
    {
      "cell_type": "code",
      "metadata": {
        "id": "iq6Fe32MgpDX"
      },
      "source": [],
      "execution_count": null,
      "outputs": []
    },
    {
      "cell_type": "markdown",
      "source": [],
      "metadata": {
        "id": "KSHcu7urI3m2"
      }
    },
    {
      "cell_type": "markdown",
      "metadata": {
        "id": "dzynfVJahHoY"
      },
      "source": [
        "**¿Cual es la estructura de datos que mejor se adapta al problema? Arguméntalo.(Es posible que hayas elegido una al principio y veas la necesidad de cambiar, arguméntalo)**\n"
      ]
    },
    {
      "cell_type": "markdown",
      "metadata": {
        "id": "xFIJrOwKi2Ti"
      },
      "source": [
        "**Respuesta:** Se utiliza una matriz para organizar los datos, ya que permite un acceso fácil y estructurado. Sin embargo, para mejorar la eficiencia del algoritmo, es posible emplear otras estructuras de datos:\n",
        "\n",
        "Las listas, que son útiles para mantener el orden de los elementos; los conjuntos que permiten eliminar duplicados y realizar búsquedas rápidas, y los diccionarios que facilitan el acceso directo a los datos mediante claves.<br>\n",
        "\n",
        "La elección de cada estructura depende de las operaciones que se realicen con mayor frecuencia, como búsquedas o accesos rápidos, lo que optimiza el rendimiento del algoritmo."
      ]
    },
    {
      "cell_type": "markdown",
      "source": [],
      "metadata": {
        "id": "4FRAN6xyONRP"
      }
    },
    {
      "cell_type": "code",
      "metadata": {
        "id": "38c-7-ejhJmA"
      },
      "source": [],
      "execution_count": null,
      "outputs": []
    },
    {
      "cell_type": "markdown",
      "metadata": {
        "id": "7Z9U2W7bi-XS"
      },
      "source": [
        "**¿Cual es la función objetivo?**<br>\n",
        "\n",
        "La función de costo a minimizar se basa en:<br>\n",
        "\n",
        "\n",
        "*   Se consideran todas las tomas que se realizarán para cada día,\n",
        "*   Si un actor es necesario en más de una toma en un día específico, solo se cuenta una vez, ya que el actor cobra por día.\n",
        "*   Se suman los actores necesarios para todas las tomas de cada día.\n",
        "*   Finalmente, se suman estos totales diarios para obtener el costo total.\n",
        "\n",
        "**¿Es un problema de maximización o minimización** <br>\n",
        "\n",
        "Es un problema de minimización, dado que se busca que los gastos por los servicios de los\n",
        "actores sea el menor posible."
      ]
    },
    {
      "cell_type": "markdown",
      "metadata": {
        "id": "rlnTYgY1j6I2"
      },
      "source": [
        "**Diseña un algoritmo para resolver el problema por fuerza bruta**"
      ]
    },
    {
      "cell_type": "markdown",
      "metadata": {
        "id": "70rDgxYXkC8r"
      },
      "source": [
        "**Respuesta:**\n",
        "Resolver el problema con un enfoque de fuerza bruta implica generar todas las combinaciones posibles de como asignar tomas a los días. Luego, hay que revisar que cada opción cumpla con las restricciones y, finalmente, elegir la que use menos días. Aunque este método no es eficiente para problemas grandes debido a la cantidad de combinaciones que puede generar, es útil para entender mejor cómo funciona la solución."
      ]
    },
    {
      "cell_type": "code",
      "source": [
        "import itertools\n",
        "# Datos de entrada\n",
        "num_tomas = 30\n",
        "num_actores = 10\n",
        "max_tomas_por_dia = 6\n",
        "\n",
        "# Verificar restricciones\n",
        "def verificar_restricciones(asignacion):\n",
        "\n",
        "# Verificar que no más de 6 tomas por día\n",
        "for dia in asignacion:\n",
        "if len(dia) > max_tomas_por_dia:\n",
        "return False\n",
        "\n",
        "# Verificar actores necesarios presentes\n",
        "for dia in asignacion:\n",
        "actores_presentes = [0] * num_actores\n",
        "  for toma in dia:\n",
        "    for actor in range(num_actores):\n",
        "      actores_presentes[actor]|=matrix[toma-1][actor]\n",
        "\n",
        "  for actor in range (num_actores):\n",
        "\n",
        "\n",
        "\n",
        "\n",
        "\n",
        "\n"
      ],
      "metadata": {
        "colab": {
          "base_uri": "https://localhost:8080/",
          "height": 106
        },
        "id": "liuPejX3TRbX",
        "outputId": "d9f9daee-05d8-4dc2-ed39-027f6e1b285f"
      },
      "execution_count": 8,
      "outputs": [
        {
          "output_type": "error",
          "ename": "IndentationError",
          "evalue": "expected an indented block after function definition on line 8 (<ipython-input-8-c12b83b9dc01>, line 11)",
          "traceback": [
            "\u001b[0;36m  File \u001b[0;32m\"<ipython-input-8-c12b83b9dc01>\"\u001b[0;36m, line \u001b[0;32m11\u001b[0m\n\u001b[0;31m    for dia in asignacion:\u001b[0m\n\u001b[0m    ^\u001b[0m\n\u001b[0;31mIndentationError\u001b[0m\u001b[0;31m:\u001b[0m expected an indented block after function definition on line 8\n"
          ]
        }
      ]
    },
    {
      "cell_type": "markdown",
      "metadata": {
        "id": "tgrnsC2nkFa8"
      },
      "source": [
        "Calcula la complejidad del algoritmo por fuerza bruta"
      ]
    },
    {
      "cell_type": "markdown",
      "metadata": {
        "id": "9eUd3xwckP68"
      },
      "source": [
        "Respuesta"
      ]
    },
    {
      "cell_type": "code",
      "metadata": {
        "id": "rvZWwL-ckRST"
      },
      "source": [],
      "execution_count": null,
      "outputs": []
    },
    {
      "cell_type": "markdown",
      "metadata": {
        "id": "txbrmLmskReM"
      },
      "source": [
        "(*)Diseña un algoritmo que mejore la complejidad del algortimo por fuerza bruta. Argumenta porque crees que mejora el algoritmo por fuerza bruta"
      ]
    },
    {
      "cell_type": "markdown",
      "metadata": {
        "id": "hLrVwt5QkZPD"
      },
      "source": [
        "Respuesta"
      ]
    },
    {
      "cell_type": "code",
      "metadata": {
        "id": "m1eyM21Vkabg"
      },
      "source": [],
      "execution_count": null,
      "outputs": []
    },
    {
      "cell_type": "markdown",
      "metadata": {
        "id": "eGDB4K6uk1iN"
      },
      "source": [
        "(*)Calcula la complejidad del algoritmo"
      ]
    },
    {
      "cell_type": "markdown",
      "metadata": {
        "id": "NhpTh_BPk1ms"
      },
      "source": [
        "Respuesta"
      ]
    },
    {
      "cell_type": "code",
      "metadata": {
        "id": "nREzhkStlCq8"
      },
      "source": [],
      "execution_count": null,
      "outputs": []
    },
    {
      "cell_type": "markdown",
      "metadata": {
        "id": "3M6QjTsSkmYe"
      },
      "source": [
        "Según el problema (y tenga sentido), diseña un juego de datos de entrada aleatorios"
      ]
    },
    {
      "cell_type": "markdown",
      "metadata": {
        "id": "Jc3_OlyNkvjZ"
      },
      "source": [
        "Respuesta"
      ]
    },
    {
      "cell_type": "code",
      "metadata": {
        "id": "sJ-N2etjkyWc"
      },
      "source": [],
      "execution_count": null,
      "outputs": []
    },
    {
      "cell_type": "markdown",
      "metadata": {
        "id": "zy5ZROmjlGo1"
      },
      "source": [
        "Aplica el algoritmo al juego de datos generado"
      ]
    },
    {
      "cell_type": "markdown",
      "metadata": {
        "id": "_Cmj-PVylMsa"
      },
      "source": [
        "Respuesta"
      ]
    },
    {
      "cell_type": "code",
      "metadata": {
        "id": "Jkx8GeiYlUz1"
      },
      "source": [],
      "execution_count": null,
      "outputs": []
    },
    {
      "cell_type": "markdown",
      "metadata": {
        "id": "eTFWUJQrtGcv"
      },
      "source": [
        "Enumera las referencias que has utilizado(si ha sido necesario) para llevar a cabo el trabajo"
      ]
    },
    {
      "cell_type": "markdown",
      "metadata": {
        "id": "YKQ_mRBttWsP"
      },
      "source": [
        "Respuesta"
      ]
    },
    {
      "cell_type": "markdown",
      "metadata": {
        "id": "kAkDPUyRtYyH"
      },
      "source": [
        "Describe brevemente las lineas de como crees que es posible avanzar en el estudio del problema. Ten en cuenta incluso posibles variaciones del problema y/o variaciones al alza del tamaño"
      ]
    },
    {
      "cell_type": "markdown",
      "metadata": {
        "id": "IE0uZmo-tZu-"
      },
      "source": [
        "Respuesta"
      ]
    }
  ]
}